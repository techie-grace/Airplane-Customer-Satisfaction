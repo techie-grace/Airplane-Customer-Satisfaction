{
 "cells": [
  {
   "cell_type": "markdown",
   "id": "7dc9ab05",
   "metadata": {},
   "source": [
    "# Airplane Customers Satisfaction Analysis \n",
    "### Dataset courtesy [Maven Analytics](https://www.mavenanalytics.io/data-playground?accessType=open&dataStructure=5wfxyeVf1etbP4TXdyPdG1)\n"
   ]
  },
  {
   "cell_type": "markdown",
   "id": "c2c5ab86",
   "metadata": {},
   "source": [
    "### Customer satisfaction scores from 120,000+ airline passengers, including additional information about each passenger, their flight, and type of travel, as well as ther evaluation of different factors like cleanliness, comfort, service, and overall experience. \n",
    "### This analysis is to analyze how each factors affects the customers satisfaction.\n",
    "\n"
   ]
  },
  {
   "cell_type": "markdown",
   "id": "d4385354",
   "metadata": {},
   "source": [
    "# Data Wrangling"
   ]
  },
  {
   "cell_type": "markdown",
   "id": "dc10af7f",
   "metadata": {},
   "source": [
    "### General Properties"
   ]
  },
  {
   "cell_type": "code",
   "execution_count": 1,
   "id": "bbfc41ed",
   "metadata": {},
   "outputs": [],
   "source": [
    "## import required libraries\n",
    "import pandas as pd\n",
    "import numpy as np\n",
    "import matplotlib.pyplot as plt\n",
    "import seaborn as sns\n",
    "sns.set()\n",
    "\n",
    "%matplotlib inline"
   ]
  },
  {
   "cell_type": "code",
   "execution_count": 2,
   "id": "b47be0fa",
   "metadata": {},
   "outputs": [
    {
     "data": {
      "text/html": [
       "<div>\n",
       "<style scoped>\n",
       "    .dataframe tbody tr th:only-of-type {\n",
       "        vertical-align: middle;\n",
       "    }\n",
       "\n",
       "    .dataframe tbody tr th {\n",
       "        vertical-align: top;\n",
       "    }\n",
       "\n",
       "    .dataframe thead th {\n",
       "        text-align: right;\n",
       "    }\n",
       "</style>\n",
       "<table border=\"1\" class=\"dataframe\">\n",
       "  <thead>\n",
       "    <tr style=\"text-align: right;\">\n",
       "      <th></th>\n",
       "      <th>0</th>\n",
       "      <th>1</th>\n",
       "      <th>2</th>\n",
       "      <th>3</th>\n",
       "      <th>4</th>\n",
       "      <th>5</th>\n",
       "      <th>6</th>\n",
       "      <th>7</th>\n",
       "      <th>8</th>\n",
       "      <th>9</th>\n",
       "      <th>10</th>\n",
       "      <th>11</th>\n",
       "      <th>12</th>\n",
       "      <th>13</th>\n",
       "      <th>14</th>\n",
       "      <th>15</th>\n",
       "      <th>16</th>\n",
       "      <th>17</th>\n",
       "      <th>18</th>\n",
       "      <th>19</th>\n",
       "    </tr>\n",
       "  </thead>\n",
       "  <tbody>\n",
       "    <tr>\n",
       "      <th>Field</th>\n",
       "      <td>ID</td>\n",
       "      <td>Gender</td>\n",
       "      <td>Age</td>\n",
       "      <td>Customer Type</td>\n",
       "      <td>Type of Travel</td>\n",
       "      <td>Class</td>\n",
       "      <td>Flight Distance</td>\n",
       "      <td>Departure Delay</td>\n",
       "      <td>Arrival Delay</td>\n",
       "      <td>Departure and Arrival Time Convenience</td>\n",
       "      <td>Ease of Online Booking</td>\n",
       "      <td>Check-in Service</td>\n",
       "      <td>Online Boarding</td>\n",
       "      <td>Gate Location</td>\n",
       "      <td>On-board Service</td>\n",
       "      <td>Seat Comfort</td>\n",
       "      <td>Leg Room Service</td>\n",
       "      <td>Cleanliness</td>\n",
       "      <td>Food and Drink</td>\n",
       "      <td>In-flight Service</td>\n",
       "    </tr>\n",
       "    <tr>\n",
       "      <th>Description</th>\n",
       "      <td>Unique passenger identifier</td>\n",
       "      <td>Gender of the passenger (Female/Male)</td>\n",
       "      <td>Age of the passenger</td>\n",
       "      <td>Type of airline customer (First-time/Returning)</td>\n",
       "      <td>Purpose of the flight (Business/Personal)</td>\n",
       "      <td>Travel class in the airplane for the passenger...</td>\n",
       "      <td>Flight distance in miles</td>\n",
       "      <td>Flight departure delay in minutes</td>\n",
       "      <td>Flight arrival delay in minutes</td>\n",
       "      <td>Satisfaction level with the convenience of the...</td>\n",
       "      <td>Satisfaction level with the online booking exp...</td>\n",
       "      <td>Satisfaction level with the check-in service f...</td>\n",
       "      <td>Satisfaction level with the online boarding ex...</td>\n",
       "      <td>Satisfaction level with the gate location in t...</td>\n",
       "      <td>Satisfaction level with the on-boarding servic...</td>\n",
       "      <td>Satisfaction level with the comfort of the air...</td>\n",
       "      <td>Satisfaction level with the leg room of the ai...</td>\n",
       "      <td>Satisfaction level with the cleanliness of the...</td>\n",
       "      <td>Satisfaction level with the food and drinks on...</td>\n",
       "      <td>Satisfaction level with the in-flight service ...</td>\n",
       "    </tr>\n",
       "  </tbody>\n",
       "</table>\n",
       "</div>"
      ],
      "text/plain": [
       "                                      0   \\\n",
       "Field                                 ID   \n",
       "Description  Unique passenger identifier   \n",
       "\n",
       "                                                1                     2   \\\n",
       "Field                                       Gender                   Age   \n",
       "Description  Gender of the passenger (Female/Male)  Age of the passenger   \n",
       "\n",
       "                                                          3   \\\n",
       "Field                                          Customer Type   \n",
       "Description  Type of airline customer (First-time/Returning)   \n",
       "\n",
       "                                                    4   \\\n",
       "Field                                   Type of Travel   \n",
       "Description  Purpose of the flight (Business/Personal)   \n",
       "\n",
       "                                                            5   \\\n",
       "Field                                                    Class   \n",
       "Description  Travel class in the airplane for the passenger...   \n",
       "\n",
       "                                   6                                  7   \\\n",
       "Field                 Flight Distance                    Departure Delay   \n",
       "Description  Flight distance in miles  Flight departure delay in minutes   \n",
       "\n",
       "                                          8   \\\n",
       "Field                          Arrival Delay   \n",
       "Description  Flight arrival delay in minutes   \n",
       "\n",
       "                                                            9   \\\n",
       "Field                   Departure and Arrival Time Convenience   \n",
       "Description  Satisfaction level with the convenience of the...   \n",
       "\n",
       "                                                            10  \\\n",
       "Field                                   Ease of Online Booking   \n",
       "Description  Satisfaction level with the online booking exp...   \n",
       "\n",
       "                                                            11  \\\n",
       "Field                                         Check-in Service   \n",
       "Description  Satisfaction level with the check-in service f...   \n",
       "\n",
       "                                                            12  \\\n",
       "Field                                          Online Boarding   \n",
       "Description  Satisfaction level with the online boarding ex...   \n",
       "\n",
       "                                                            13  \\\n",
       "Field                                            Gate Location   \n",
       "Description  Satisfaction level with the gate location in t...   \n",
       "\n",
       "                                                            14  \\\n",
       "Field                                         On-board Service   \n",
       "Description  Satisfaction level with the on-boarding servic...   \n",
       "\n",
       "                                                            15  \\\n",
       "Field                                             Seat Comfort   \n",
       "Description  Satisfaction level with the comfort of the air...   \n",
       "\n",
       "                                                            16  \\\n",
       "Field                                         Leg Room Service   \n",
       "Description  Satisfaction level with the leg room of the ai...   \n",
       "\n",
       "                                                            17  \\\n",
       "Field                                              Cleanliness   \n",
       "Description  Satisfaction level with the cleanliness of the...   \n",
       "\n",
       "                                                            18  \\\n",
       "Field                                           Food and Drink   \n",
       "Description  Satisfaction level with the food and drinks on...   \n",
       "\n",
       "                                                            19  \n",
       "Field                                        In-flight Service  \n",
       "Description  Satisfaction level with the in-flight service ...  "
      ]
     },
     "execution_count": 2,
     "metadata": {},
     "output_type": "execute_result"
    }
   ],
   "source": [
    "# data dictionary\n",
    "data_dict = pd.read_csv(\"data_dictionary.csv\")\n",
    "\n",
    "data_dict.head(20).T"
   ]
  },
  {
   "cell_type": "code",
   "execution_count": 3,
   "id": "60f70d80",
   "metadata": {},
   "outputs": [
    {
     "data": {
      "text/html": [
       "<div>\n",
       "<style scoped>\n",
       "    .dataframe tbody tr th:only-of-type {\n",
       "        vertical-align: middle;\n",
       "    }\n",
       "\n",
       "    .dataframe tbody tr th {\n",
       "        vertical-align: top;\n",
       "    }\n",
       "\n",
       "    .dataframe thead th {\n",
       "        text-align: right;\n",
       "    }\n",
       "</style>\n",
       "<table border=\"1\" class=\"dataframe\">\n",
       "  <thead>\n",
       "    <tr style=\"text-align: right;\">\n",
       "      <th></th>\n",
       "      <th>0</th>\n",
       "      <th>1</th>\n",
       "      <th>2</th>\n",
       "      <th>3</th>\n",
       "      <th>4</th>\n",
       "    </tr>\n",
       "  </thead>\n",
       "  <tbody>\n",
       "    <tr>\n",
       "      <th>ID</th>\n",
       "      <td>1</td>\n",
       "      <td>2</td>\n",
       "      <td>3</td>\n",
       "      <td>4</td>\n",
       "      <td>5</td>\n",
       "    </tr>\n",
       "    <tr>\n",
       "      <th>Gender</th>\n",
       "      <td>Male</td>\n",
       "      <td>Female</td>\n",
       "      <td>Male</td>\n",
       "      <td>Male</td>\n",
       "      <td>Female</td>\n",
       "    </tr>\n",
       "    <tr>\n",
       "      <th>Age</th>\n",
       "      <td>48</td>\n",
       "      <td>35</td>\n",
       "      <td>41</td>\n",
       "      <td>50</td>\n",
       "      <td>49</td>\n",
       "    </tr>\n",
       "    <tr>\n",
       "      <th>Customer Type</th>\n",
       "      <td>First-time</td>\n",
       "      <td>Returning</td>\n",
       "      <td>Returning</td>\n",
       "      <td>Returning</td>\n",
       "      <td>Returning</td>\n",
       "    </tr>\n",
       "    <tr>\n",
       "      <th>Type of Travel</th>\n",
       "      <td>Business</td>\n",
       "      <td>Business</td>\n",
       "      <td>Business</td>\n",
       "      <td>Business</td>\n",
       "      <td>Business</td>\n",
       "    </tr>\n",
       "    <tr>\n",
       "      <th>Class</th>\n",
       "      <td>Business</td>\n",
       "      <td>Business</td>\n",
       "      <td>Business</td>\n",
       "      <td>Business</td>\n",
       "      <td>Business</td>\n",
       "    </tr>\n",
       "    <tr>\n",
       "      <th>Flight Distance</th>\n",
       "      <td>821</td>\n",
       "      <td>821</td>\n",
       "      <td>853</td>\n",
       "      <td>1905</td>\n",
       "      <td>3470</td>\n",
       "    </tr>\n",
       "    <tr>\n",
       "      <th>Departure Delay</th>\n",
       "      <td>2</td>\n",
       "      <td>26</td>\n",
       "      <td>0</td>\n",
       "      <td>0</td>\n",
       "      <td>0</td>\n",
       "    </tr>\n",
       "    <tr>\n",
       "      <th>Arrival Delay</th>\n",
       "      <td>5.0</td>\n",
       "      <td>39.0</td>\n",
       "      <td>0.0</td>\n",
       "      <td>0.0</td>\n",
       "      <td>1.0</td>\n",
       "    </tr>\n",
       "    <tr>\n",
       "      <th>Departure and Arrival Time Convenience</th>\n",
       "      <td>3</td>\n",
       "      <td>2</td>\n",
       "      <td>4</td>\n",
       "      <td>2</td>\n",
       "      <td>3</td>\n",
       "    </tr>\n",
       "    <tr>\n",
       "      <th>Ease of Online Booking</th>\n",
       "      <td>3</td>\n",
       "      <td>2</td>\n",
       "      <td>4</td>\n",
       "      <td>2</td>\n",
       "      <td>3</td>\n",
       "    </tr>\n",
       "    <tr>\n",
       "      <th>Check-in Service</th>\n",
       "      <td>4</td>\n",
       "      <td>3</td>\n",
       "      <td>4</td>\n",
       "      <td>3</td>\n",
       "      <td>3</td>\n",
       "    </tr>\n",
       "    <tr>\n",
       "      <th>Online Boarding</th>\n",
       "      <td>3</td>\n",
       "      <td>5</td>\n",
       "      <td>5</td>\n",
       "      <td>4</td>\n",
       "      <td>5</td>\n",
       "    </tr>\n",
       "    <tr>\n",
       "      <th>Gate Location</th>\n",
       "      <td>3</td>\n",
       "      <td>2</td>\n",
       "      <td>4</td>\n",
       "      <td>2</td>\n",
       "      <td>3</td>\n",
       "    </tr>\n",
       "    <tr>\n",
       "      <th>On-board Service</th>\n",
       "      <td>3</td>\n",
       "      <td>5</td>\n",
       "      <td>3</td>\n",
       "      <td>5</td>\n",
       "      <td>3</td>\n",
       "    </tr>\n",
       "    <tr>\n",
       "      <th>Seat Comfort</th>\n",
       "      <td>5</td>\n",
       "      <td>4</td>\n",
       "      <td>5</td>\n",
       "      <td>5</td>\n",
       "      <td>4</td>\n",
       "    </tr>\n",
       "    <tr>\n",
       "      <th>Leg Room Service</th>\n",
       "      <td>2</td>\n",
       "      <td>5</td>\n",
       "      <td>3</td>\n",
       "      <td>5</td>\n",
       "      <td>4</td>\n",
       "    </tr>\n",
       "    <tr>\n",
       "      <th>Cleanliness</th>\n",
       "      <td>5</td>\n",
       "      <td>5</td>\n",
       "      <td>5</td>\n",
       "      <td>4</td>\n",
       "      <td>5</td>\n",
       "    </tr>\n",
       "    <tr>\n",
       "      <th>Food and Drink</th>\n",
       "      <td>5</td>\n",
       "      <td>3</td>\n",
       "      <td>5</td>\n",
       "      <td>4</td>\n",
       "      <td>4</td>\n",
       "    </tr>\n",
       "    <tr>\n",
       "      <th>In-flight Service</th>\n",
       "      <td>5</td>\n",
       "      <td>5</td>\n",
       "      <td>3</td>\n",
       "      <td>5</td>\n",
       "      <td>3</td>\n",
       "    </tr>\n",
       "    <tr>\n",
       "      <th>In-flight Wifi Service</th>\n",
       "      <td>3</td>\n",
       "      <td>2</td>\n",
       "      <td>4</td>\n",
       "      <td>2</td>\n",
       "      <td>3</td>\n",
       "    </tr>\n",
       "    <tr>\n",
       "      <th>In-flight Entertainment</th>\n",
       "      <td>5</td>\n",
       "      <td>5</td>\n",
       "      <td>3</td>\n",
       "      <td>5</td>\n",
       "      <td>3</td>\n",
       "    </tr>\n",
       "    <tr>\n",
       "      <th>Baggage Handling</th>\n",
       "      <td>5</td>\n",
       "      <td>5</td>\n",
       "      <td>3</td>\n",
       "      <td>5</td>\n",
       "      <td>3</td>\n",
       "    </tr>\n",
       "    <tr>\n",
       "      <th>Satisfaction</th>\n",
       "      <td>Neutral or Dissatisfied</td>\n",
       "      <td>Satisfied</td>\n",
       "      <td>Satisfied</td>\n",
       "      <td>Satisfied</td>\n",
       "      <td>Satisfied</td>\n",
       "    </tr>\n",
       "  </tbody>\n",
       "</table>\n",
       "</div>"
      ],
      "text/plain": [
       "                                                              0          1  \\\n",
       "ID                                                            1          2   \n",
       "Gender                                                     Male     Female   \n",
       "Age                                                          48         35   \n",
       "Customer Type                                        First-time  Returning   \n",
       "Type of Travel                                         Business   Business   \n",
       "Class                                                  Business   Business   \n",
       "Flight Distance                                             821        821   \n",
       "Departure Delay                                               2         26   \n",
       "Arrival Delay                                               5.0       39.0   \n",
       "Departure and Arrival Time Convenience                        3          2   \n",
       "Ease of Online Booking                                        3          2   \n",
       "Check-in Service                                              4          3   \n",
       "Online Boarding                                               3          5   \n",
       "Gate Location                                                 3          2   \n",
       "On-board Service                                              3          5   \n",
       "Seat Comfort                                                  5          4   \n",
       "Leg Room Service                                              2          5   \n",
       "Cleanliness                                                   5          5   \n",
       "Food and Drink                                                5          3   \n",
       "In-flight Service                                             5          5   \n",
       "In-flight Wifi Service                                        3          2   \n",
       "In-flight Entertainment                                       5          5   \n",
       "Baggage Handling                                              5          5   \n",
       "Satisfaction                            Neutral or Dissatisfied  Satisfied   \n",
       "\n",
       "                                                2          3          4  \n",
       "ID                                              3          4          5  \n",
       "Gender                                       Male       Male     Female  \n",
       "Age                                            41         50         49  \n",
       "Customer Type                           Returning  Returning  Returning  \n",
       "Type of Travel                           Business   Business   Business  \n",
       "Class                                    Business   Business   Business  \n",
       "Flight Distance                               853       1905       3470  \n",
       "Departure Delay                                 0          0          0  \n",
       "Arrival Delay                                 0.0        0.0        1.0  \n",
       "Departure and Arrival Time Convenience          4          2          3  \n",
       "Ease of Online Booking                          4          2          3  \n",
       "Check-in Service                                4          3          3  \n",
       "Online Boarding                                 5          4          5  \n",
       "Gate Location                                   4          2          3  \n",
       "On-board Service                                3          5          3  \n",
       "Seat Comfort                                    5          5          4  \n",
       "Leg Room Service                                3          5          4  \n",
       "Cleanliness                                     5          4          5  \n",
       "Food and Drink                                  5          4          4  \n",
       "In-flight Service                               3          5          3  \n",
       "In-flight Wifi Service                          4          2          3  \n",
       "In-flight Entertainment                         3          5          3  \n",
       "Baggage Handling                                3          5          3  \n",
       "Satisfaction                            Satisfied  Satisfied  Satisfied  "
      ]
     },
     "execution_count": 3,
     "metadata": {},
     "output_type": "execute_result"
    }
   ],
   "source": [
    "#import data\n",
    "data = pd.read_csv(\"airline_passenger_satisfaction.csv\")\n",
    "\n",
    "data.head().T\n"
   ]
  },
  {
   "cell_type": "code",
   "execution_count": 4,
   "id": "7ae687ce",
   "metadata": {},
   "outputs": [
    {
     "data": {
      "text/plain": [
       "ID                                          0\n",
       "Gender                                      0\n",
       "Age                                         0\n",
       "Customer Type                               0\n",
       "Type of Travel                              0\n",
       "Class                                       0\n",
       "Flight Distance                             0\n",
       "Departure Delay                             0\n",
       "Arrival Delay                             393\n",
       "Departure and Arrival Time Convenience      0\n",
       "Ease of Online Booking                      0\n",
       "Check-in Service                            0\n",
       "Online Boarding                             0\n",
       "Gate Location                               0\n",
       "On-board Service                            0\n",
       "Seat Comfort                                0\n",
       "Leg Room Service                            0\n",
       "Cleanliness                                 0\n",
       "Food and Drink                              0\n",
       "In-flight Service                           0\n",
       "In-flight Wifi Service                      0\n",
       "In-flight Entertainment                     0\n",
       "Baggage Handling                            0\n",
       "Satisfaction                                0\n",
       "dtype: int64"
      ]
     },
     "execution_count": 4,
     "metadata": {},
     "output_type": "execute_result"
    }
   ],
   "source": [
    "#Check for missing data\n",
    "\n",
    "data.isnull().sum()"
   ]
  },
  {
   "cell_type": "markdown",
   "id": "fc831ebc",
   "metadata": {},
   "source": [
    ">  Only Arrival has missing 393 missing values\n"
   ]
  },
  {
   "cell_type": "code",
   "execution_count": 5,
   "id": "2dceac19",
   "metadata": {},
   "outputs": [
    {
     "name": "stdout",
     "output_type": "stream",
     "text": [
      "<class 'pandas.core.frame.DataFrame'>\n",
      "RangeIndex: 129880 entries, 0 to 129879\n",
      "Data columns (total 24 columns):\n",
      " #   Column                                  Non-Null Count   Dtype  \n",
      "---  ------                                  --------------   -----  \n",
      " 0   ID                                      129880 non-null  int64  \n",
      " 1   Gender                                  129880 non-null  object \n",
      " 2   Age                                     129880 non-null  int64  \n",
      " 3   Customer Type                           129880 non-null  object \n",
      " 4   Type of Travel                          129880 non-null  object \n",
      " 5   Class                                   129880 non-null  object \n",
      " 6   Flight Distance                         129880 non-null  int64  \n",
      " 7   Departure Delay                         129880 non-null  int64  \n",
      " 8   Arrival Delay                           129487 non-null  float64\n",
      " 9   Departure and Arrival Time Convenience  129880 non-null  int64  \n",
      " 10  Ease of Online Booking                  129880 non-null  int64  \n",
      " 11  Check-in Service                        129880 non-null  int64  \n",
      " 12  Online Boarding                         129880 non-null  int64  \n",
      " 13  Gate Location                           129880 non-null  int64  \n",
      " 14  On-board Service                        129880 non-null  int64  \n",
      " 15  Seat Comfort                            129880 non-null  int64  \n",
      " 16  Leg Room Service                        129880 non-null  int64  \n",
      " 17  Cleanliness                             129880 non-null  int64  \n",
      " 18  Food and Drink                          129880 non-null  int64  \n",
      " 19  In-flight Service                       129880 non-null  int64  \n",
      " 20  In-flight Wifi Service                  129880 non-null  int64  \n",
      " 21  In-flight Entertainment                 129880 non-null  int64  \n",
      " 22  Baggage Handling                        129880 non-null  int64  \n",
      " 23  Satisfaction                            129880 non-null  object \n",
      "dtypes: float64(1), int64(18), object(5)\n",
      "memory usage: 23.8+ MB\n"
     ]
    }
   ],
   "source": [
    "#Check Data info\n",
    "data.info()"
   ]
  },
  {
   "cell_type": "markdown",
   "id": "18554950",
   "metadata": {},
   "source": [
    "> Arrival delay is a float rather than integer"
   ]
  },
  {
   "cell_type": "code",
   "execution_count": 6,
   "id": "4ecb8abe",
   "metadata": {},
   "outputs": [
    {
     "data": {
      "text/html": [
       "<div>\n",
       "<style scoped>\n",
       "    .dataframe tbody tr th:only-of-type {\n",
       "        vertical-align: middle;\n",
       "    }\n",
       "\n",
       "    .dataframe tbody tr th {\n",
       "        vertical-align: top;\n",
       "    }\n",
       "\n",
       "    .dataframe thead th {\n",
       "        text-align: right;\n",
       "    }\n",
       "</style>\n",
       "<table border=\"1\" class=\"dataframe\">\n",
       "  <thead>\n",
       "    <tr style=\"text-align: right;\">\n",
       "      <th></th>\n",
       "      <th>ID</th>\n",
       "      <th>Age</th>\n",
       "      <th>Flight Distance</th>\n",
       "      <th>Departure Delay</th>\n",
       "      <th>Arrival Delay</th>\n",
       "      <th>Departure and Arrival Time Convenience</th>\n",
       "      <th>Ease of Online Booking</th>\n",
       "      <th>Check-in Service</th>\n",
       "      <th>Online Boarding</th>\n",
       "      <th>Gate Location</th>\n",
       "      <th>On-board Service</th>\n",
       "      <th>Seat Comfort</th>\n",
       "      <th>Leg Room Service</th>\n",
       "      <th>Cleanliness</th>\n",
       "      <th>Food and Drink</th>\n",
       "      <th>In-flight Service</th>\n",
       "      <th>In-flight Wifi Service</th>\n",
       "      <th>In-flight Entertainment</th>\n",
       "      <th>Baggage Handling</th>\n",
       "    </tr>\n",
       "  </thead>\n",
       "  <tbody>\n",
       "    <tr>\n",
       "      <th>count</th>\n",
       "      <td>129880.000000</td>\n",
       "      <td>129880.000000</td>\n",
       "      <td>129880.000000</td>\n",
       "      <td>129880.000000</td>\n",
       "      <td>129487.000000</td>\n",
       "      <td>129880.000000</td>\n",
       "      <td>129880.000000</td>\n",
       "      <td>129880.000000</td>\n",
       "      <td>129880.000000</td>\n",
       "      <td>129880.000000</td>\n",
       "      <td>129880.000000</td>\n",
       "      <td>129880.000000</td>\n",
       "      <td>129880.000000</td>\n",
       "      <td>129880.000000</td>\n",
       "      <td>129880.000000</td>\n",
       "      <td>129880.000000</td>\n",
       "      <td>129880.000000</td>\n",
       "      <td>129880.000000</td>\n",
       "      <td>129880.000000</td>\n",
       "    </tr>\n",
       "    <tr>\n",
       "      <th>mean</th>\n",
       "      <td>64940.500000</td>\n",
       "      <td>39.427957</td>\n",
       "      <td>1190.316392</td>\n",
       "      <td>14.713713</td>\n",
       "      <td>15.091129</td>\n",
       "      <td>3.057599</td>\n",
       "      <td>2.756876</td>\n",
       "      <td>3.306267</td>\n",
       "      <td>3.252633</td>\n",
       "      <td>2.976925</td>\n",
       "      <td>3.383023</td>\n",
       "      <td>3.441361</td>\n",
       "      <td>3.350878</td>\n",
       "      <td>3.286326</td>\n",
       "      <td>3.204774</td>\n",
       "      <td>3.642193</td>\n",
       "      <td>2.728696</td>\n",
       "      <td>3.358077</td>\n",
       "      <td>3.632114</td>\n",
       "    </tr>\n",
       "    <tr>\n",
       "      <th>std</th>\n",
       "      <td>37493.270818</td>\n",
       "      <td>15.119360</td>\n",
       "      <td>997.452477</td>\n",
       "      <td>38.071126</td>\n",
       "      <td>38.465650</td>\n",
       "      <td>1.526741</td>\n",
       "      <td>1.401740</td>\n",
       "      <td>1.266185</td>\n",
       "      <td>1.350719</td>\n",
       "      <td>1.278520</td>\n",
       "      <td>1.287099</td>\n",
       "      <td>1.319289</td>\n",
       "      <td>1.316252</td>\n",
       "      <td>1.313682</td>\n",
       "      <td>1.329933</td>\n",
       "      <td>1.176669</td>\n",
       "      <td>1.329340</td>\n",
       "      <td>1.334049</td>\n",
       "      <td>1.180025</td>\n",
       "    </tr>\n",
       "    <tr>\n",
       "      <th>min</th>\n",
       "      <td>1.000000</td>\n",
       "      <td>7.000000</td>\n",
       "      <td>31.000000</td>\n",
       "      <td>0.000000</td>\n",
       "      <td>0.000000</td>\n",
       "      <td>0.000000</td>\n",
       "      <td>0.000000</td>\n",
       "      <td>0.000000</td>\n",
       "      <td>0.000000</td>\n",
       "      <td>0.000000</td>\n",
       "      <td>0.000000</td>\n",
       "      <td>0.000000</td>\n",
       "      <td>0.000000</td>\n",
       "      <td>0.000000</td>\n",
       "      <td>0.000000</td>\n",
       "      <td>0.000000</td>\n",
       "      <td>0.000000</td>\n",
       "      <td>0.000000</td>\n",
       "      <td>1.000000</td>\n",
       "    </tr>\n",
       "    <tr>\n",
       "      <th>25%</th>\n",
       "      <td>32470.750000</td>\n",
       "      <td>27.000000</td>\n",
       "      <td>414.000000</td>\n",
       "      <td>0.000000</td>\n",
       "      <td>0.000000</td>\n",
       "      <td>2.000000</td>\n",
       "      <td>2.000000</td>\n",
       "      <td>3.000000</td>\n",
       "      <td>2.000000</td>\n",
       "      <td>2.000000</td>\n",
       "      <td>2.000000</td>\n",
       "      <td>2.000000</td>\n",
       "      <td>2.000000</td>\n",
       "      <td>2.000000</td>\n",
       "      <td>2.000000</td>\n",
       "      <td>3.000000</td>\n",
       "      <td>2.000000</td>\n",
       "      <td>2.000000</td>\n",
       "      <td>3.000000</td>\n",
       "    </tr>\n",
       "    <tr>\n",
       "      <th>50%</th>\n",
       "      <td>64940.500000</td>\n",
       "      <td>40.000000</td>\n",
       "      <td>844.000000</td>\n",
       "      <td>0.000000</td>\n",
       "      <td>0.000000</td>\n",
       "      <td>3.000000</td>\n",
       "      <td>3.000000</td>\n",
       "      <td>3.000000</td>\n",
       "      <td>3.000000</td>\n",
       "      <td>3.000000</td>\n",
       "      <td>4.000000</td>\n",
       "      <td>4.000000</td>\n",
       "      <td>4.000000</td>\n",
       "      <td>3.000000</td>\n",
       "      <td>3.000000</td>\n",
       "      <td>4.000000</td>\n",
       "      <td>3.000000</td>\n",
       "      <td>4.000000</td>\n",
       "      <td>4.000000</td>\n",
       "    </tr>\n",
       "    <tr>\n",
       "      <th>75%</th>\n",
       "      <td>97410.250000</td>\n",
       "      <td>51.000000</td>\n",
       "      <td>1744.000000</td>\n",
       "      <td>12.000000</td>\n",
       "      <td>13.000000</td>\n",
       "      <td>4.000000</td>\n",
       "      <td>4.000000</td>\n",
       "      <td>4.000000</td>\n",
       "      <td>4.000000</td>\n",
       "      <td>4.000000</td>\n",
       "      <td>4.000000</td>\n",
       "      <td>5.000000</td>\n",
       "      <td>4.000000</td>\n",
       "      <td>4.000000</td>\n",
       "      <td>4.000000</td>\n",
       "      <td>5.000000</td>\n",
       "      <td>4.000000</td>\n",
       "      <td>4.000000</td>\n",
       "      <td>5.000000</td>\n",
       "    </tr>\n",
       "    <tr>\n",
       "      <th>max</th>\n",
       "      <td>129880.000000</td>\n",
       "      <td>85.000000</td>\n",
       "      <td>4983.000000</td>\n",
       "      <td>1592.000000</td>\n",
       "      <td>1584.000000</td>\n",
       "      <td>5.000000</td>\n",
       "      <td>5.000000</td>\n",
       "      <td>5.000000</td>\n",
       "      <td>5.000000</td>\n",
       "      <td>5.000000</td>\n",
       "      <td>5.000000</td>\n",
       "      <td>5.000000</td>\n",
       "      <td>5.000000</td>\n",
       "      <td>5.000000</td>\n",
       "      <td>5.000000</td>\n",
       "      <td>5.000000</td>\n",
       "      <td>5.000000</td>\n",
       "      <td>5.000000</td>\n",
       "      <td>5.000000</td>\n",
       "    </tr>\n",
       "  </tbody>\n",
       "</table>\n",
       "</div>"
      ],
      "text/plain": [
       "                  ID            Age  Flight Distance  Departure Delay  \\\n",
       "count  129880.000000  129880.000000    129880.000000    129880.000000   \n",
       "mean    64940.500000      39.427957      1190.316392        14.713713   \n",
       "std     37493.270818      15.119360       997.452477        38.071126   \n",
       "min         1.000000       7.000000        31.000000         0.000000   \n",
       "25%     32470.750000      27.000000       414.000000         0.000000   \n",
       "50%     64940.500000      40.000000       844.000000         0.000000   \n",
       "75%     97410.250000      51.000000      1744.000000        12.000000   \n",
       "max    129880.000000      85.000000      4983.000000      1592.000000   \n",
       "\n",
       "       Arrival Delay  Departure and Arrival Time Convenience  \\\n",
       "count  129487.000000                           129880.000000   \n",
       "mean       15.091129                                3.057599   \n",
       "std        38.465650                                1.526741   \n",
       "min         0.000000                                0.000000   \n",
       "25%         0.000000                                2.000000   \n",
       "50%         0.000000                                3.000000   \n",
       "75%        13.000000                                4.000000   \n",
       "max      1584.000000                                5.000000   \n",
       "\n",
       "       Ease of Online Booking  Check-in Service  Online Boarding  \\\n",
       "count           129880.000000     129880.000000    129880.000000   \n",
       "mean                 2.756876          3.306267         3.252633   \n",
       "std                  1.401740          1.266185         1.350719   \n",
       "min                  0.000000          0.000000         0.000000   \n",
       "25%                  2.000000          3.000000         2.000000   \n",
       "50%                  3.000000          3.000000         3.000000   \n",
       "75%                  4.000000          4.000000         4.000000   \n",
       "max                  5.000000          5.000000         5.000000   \n",
       "\n",
       "       Gate Location  On-board Service   Seat Comfort  Leg Room Service  \\\n",
       "count  129880.000000     129880.000000  129880.000000     129880.000000   \n",
       "mean        2.976925          3.383023       3.441361          3.350878   \n",
       "std         1.278520          1.287099       1.319289          1.316252   \n",
       "min         0.000000          0.000000       0.000000          0.000000   \n",
       "25%         2.000000          2.000000       2.000000          2.000000   \n",
       "50%         3.000000          4.000000       4.000000          4.000000   \n",
       "75%         4.000000          4.000000       5.000000          4.000000   \n",
       "max         5.000000          5.000000       5.000000          5.000000   \n",
       "\n",
       "         Cleanliness  Food and Drink  In-flight Service  \\\n",
       "count  129880.000000   129880.000000      129880.000000   \n",
       "mean        3.286326        3.204774           3.642193   \n",
       "std         1.313682        1.329933           1.176669   \n",
       "min         0.000000        0.000000           0.000000   \n",
       "25%         2.000000        2.000000           3.000000   \n",
       "50%         3.000000        3.000000           4.000000   \n",
       "75%         4.000000        4.000000           5.000000   \n",
       "max         5.000000        5.000000           5.000000   \n",
       "\n",
       "       In-flight Wifi Service  In-flight Entertainment  Baggage Handling  \n",
       "count           129880.000000            129880.000000     129880.000000  \n",
       "mean                 2.728696                 3.358077          3.632114  \n",
       "std                  1.329340                 1.334049          1.180025  \n",
       "min                  0.000000                 0.000000          1.000000  \n",
       "25%                  2.000000                 2.000000          3.000000  \n",
       "50%                  3.000000                 4.000000          4.000000  \n",
       "75%                  4.000000                 4.000000          5.000000  \n",
       "max                  5.000000                 5.000000          5.000000  "
      ]
     },
     "execution_count": 6,
     "metadata": {},
     "output_type": "execute_result"
    }
   ],
   "source": [
    "# data description\n",
    "data.describe()"
   ]
  },
  {
   "cell_type": "markdown",
   "id": "06e80513",
   "metadata": {},
   "source": [
    "> Observations/Insights\n",
    "> 1. The average customer age is 39 years\n",
    "> 2. The average flight distance is 1190 miles\n",
    "> 3. The Average flight delay for arrival and departure is 15 mins and 14 mins respectively"
   ]
  },
  {
   "cell_type": "code",
   "execution_count": 7,
   "id": "5ffbf8af",
   "metadata": {},
   "outputs": [
    {
     "data": {
      "text/plain": [
       "0"
      ]
     },
     "execution_count": 7,
     "metadata": {},
     "output_type": "execute_result"
    }
   ],
   "source": [
    "#Check for duplictaes\n",
    "sum(data.duplicated())"
   ]
  },
  {
   "cell_type": "code",
   "execution_count": 8,
   "id": "1094c47a",
   "metadata": {},
   "outputs": [
    {
     "name": "stdout",
     "output_type": "stream",
     "text": [
      "ID\n",
      "129880\n",
      "Gender\n",
      "2\n",
      "Age\n",
      "75\n",
      "Customer Type\n",
      "2\n",
      "Type of Travel\n",
      "2\n",
      "Class\n",
      "3\n",
      "Flight Distance\n",
      "3821\n",
      "Departure Delay\n",
      "466\n",
      "Arrival Delay\n",
      "472\n",
      "Departure and Arrival Time Convenience\n",
      "6\n",
      "Ease of Online Booking\n",
      "6\n",
      "Check-in Service\n",
      "6\n",
      "Online Boarding\n",
      "6\n",
      "Gate Location\n",
      "6\n",
      "On-board Service\n",
      "6\n",
      "Seat Comfort\n",
      "6\n",
      "Leg Room Service\n",
      "6\n",
      "Cleanliness\n",
      "6\n",
      "Food and Drink\n",
      "6\n",
      "In-flight Service\n",
      "6\n",
      "In-flight Wifi Service\n",
      "6\n",
      "In-flight Entertainment\n",
      "6\n",
      "Baggage Handling\n",
      "5\n",
      "Satisfaction\n",
      "2\n"
     ]
    }
   ],
   "source": [
    "#Check unique values for all coulums\n",
    "\n",
    "for i in data.columns:\n",
    "    print(i)\n",
    "    print(data[i].nunique())"
   ]
  },
  {
   "cell_type": "markdown",
   "id": "33896adc",
   "metadata": {},
   "source": [
    "### Data Cleaning"
   ]
  },
  {
   "cell_type": "markdown",
   "id": "7989c6b4",
   "metadata": {},
   "source": [
    "> Missing data could be a result of human error, thus we'd replace NaN with 0 which means \"Not Applicable\""
   ]
  },
  {
   "cell_type": "code",
   "execution_count": 9,
   "id": "dba7059d",
   "metadata": {},
   "outputs": [],
   "source": [
    "# replace missing data\n",
    "data[\"Arrival Delay\"] = data[\"Arrival Delay\"].replace(np.nan, 0)"
   ]
  },
  {
   "cell_type": "code",
   "execution_count": 10,
   "id": "5d3a3798",
   "metadata": {},
   "outputs": [
    {
     "data": {
      "text/plain": [
       "ID                                        0\n",
       "Gender                                    0\n",
       "Age                                       0\n",
       "Customer Type                             0\n",
       "Type of Travel                            0\n",
       "Class                                     0\n",
       "Flight Distance                           0\n",
       "Departure Delay                           0\n",
       "Arrival Delay                             0\n",
       "Departure and Arrival Time Convenience    0\n",
       "Ease of Online Booking                    0\n",
       "Check-in Service                          0\n",
       "Online Boarding                           0\n",
       "Gate Location                             0\n",
       "On-board Service                          0\n",
       "Seat Comfort                              0\n",
       "Leg Room Service                          0\n",
       "Cleanliness                               0\n",
       "Food and Drink                            0\n",
       "In-flight Service                         0\n",
       "In-flight Wifi Service                    0\n",
       "In-flight Entertainment                   0\n",
       "Baggage Handling                          0\n",
       "Satisfaction                              0\n",
       "dtype: int64"
      ]
     },
     "execution_count": 10,
     "metadata": {},
     "output_type": "execute_result"
    }
   ],
   "source": [
    "#Check for missing data\n",
    "\n",
    "data.isnull().sum()\n"
   ]
  },
  {
   "cell_type": "code",
   "execution_count": 11,
   "id": "78a96696",
   "metadata": {},
   "outputs": [],
   "source": [
    "#change data type of arrival day\n",
    "data['Arrival Delay'] = data['Arrival Delay'].astype(\"int\")"
   ]
  },
  {
   "cell_type": "markdown",
   "id": "ccfda385",
   "metadata": {},
   "source": [
    "### Feature Engineering"
   ]
  },
  {
   "cell_type": "code",
   "execution_count": 12,
   "id": "fe805e33",
   "metadata": {},
   "outputs": [],
   "source": [
    "#Create new column for total delay\n",
    "data[\"Total Delay\"] =  data['Arrival Delay'] + data['Departure Delay']"
   ]
  },
  {
   "cell_type": "code",
   "execution_count": 13,
   "id": "99056a60",
   "metadata": {},
   "outputs": [],
   "source": [
    "#Create Age category column\n",
    "data['Age_cat'] = pd.cut(\n",
    "                        x=data['Age'],\n",
    "                        bins=[0, 12, 19, 59, 100],\n",
    "                        labels= [\"Child\", \"Teen\",\"Adult\", \"Elder\"],\n",
    "                        include_lowest=True)"
   ]
  },
  {
   "cell_type": "code",
   "execution_count": 14,
   "id": "2368335e",
   "metadata": {},
   "outputs": [],
   "source": [
    "#Create Flight distance category\n",
    "data['Flight_cat'] = pd.cut(\n",
    "                        x=data['Flight Distance'],\n",
    "                        bins=[0, 700, 3000, 5000],\n",
    "                        labels= [\"Short-Haul\", \"Medium-Haul\",\"Long-Haul\"], #based on internet research\n",
    "                        include_lowest=True)"
   ]
  },
  {
   "cell_type": "code",
   "execution_count": 15,
   "id": "ddfedef0",
   "metadata": {},
   "outputs": [
    {
     "data": {
      "text/html": [
       "<div>\n",
       "<style scoped>\n",
       "    .dataframe tbody tr th:only-of-type {\n",
       "        vertical-align: middle;\n",
       "    }\n",
       "\n",
       "    .dataframe tbody tr th {\n",
       "        vertical-align: top;\n",
       "    }\n",
       "\n",
       "    .dataframe thead th {\n",
       "        text-align: right;\n",
       "    }\n",
       "</style>\n",
       "<table border=\"1\" class=\"dataframe\">\n",
       "  <thead>\n",
       "    <tr style=\"text-align: right;\">\n",
       "      <th></th>\n",
       "      <th>ID</th>\n",
       "      <th>Gender</th>\n",
       "      <th>Age</th>\n",
       "      <th>Customer Type</th>\n",
       "      <th>Type of Travel</th>\n",
       "      <th>Class</th>\n",
       "      <th>Flight Distance</th>\n",
       "      <th>Departure Delay</th>\n",
       "      <th>Arrival Delay</th>\n",
       "      <th>Departure and Arrival Time Convenience</th>\n",
       "      <th>...</th>\n",
       "      <th>Cleanliness</th>\n",
       "      <th>Food and Drink</th>\n",
       "      <th>In-flight Service</th>\n",
       "      <th>In-flight Wifi Service</th>\n",
       "      <th>In-flight Entertainment</th>\n",
       "      <th>Baggage Handling</th>\n",
       "      <th>Satisfaction</th>\n",
       "      <th>Total Delay</th>\n",
       "      <th>Age_cat</th>\n",
       "      <th>Flight_cat</th>\n",
       "    </tr>\n",
       "  </thead>\n",
       "  <tbody>\n",
       "    <tr>\n",
       "      <th>0</th>\n",
       "      <td>1</td>\n",
       "      <td>Male</td>\n",
       "      <td>48</td>\n",
       "      <td>First-time</td>\n",
       "      <td>Business</td>\n",
       "      <td>Business</td>\n",
       "      <td>821</td>\n",
       "      <td>2</td>\n",
       "      <td>5</td>\n",
       "      <td>3</td>\n",
       "      <td>...</td>\n",
       "      <td>5</td>\n",
       "      <td>5</td>\n",
       "      <td>5</td>\n",
       "      <td>3</td>\n",
       "      <td>5</td>\n",
       "      <td>5</td>\n",
       "      <td>Neutral or Dissatisfied</td>\n",
       "      <td>7</td>\n",
       "      <td>Adult</td>\n",
       "      <td>Medium-Haul</td>\n",
       "    </tr>\n",
       "    <tr>\n",
       "      <th>1</th>\n",
       "      <td>2</td>\n",
       "      <td>Female</td>\n",
       "      <td>35</td>\n",
       "      <td>Returning</td>\n",
       "      <td>Business</td>\n",
       "      <td>Business</td>\n",
       "      <td>821</td>\n",
       "      <td>26</td>\n",
       "      <td>39</td>\n",
       "      <td>2</td>\n",
       "      <td>...</td>\n",
       "      <td>5</td>\n",
       "      <td>3</td>\n",
       "      <td>5</td>\n",
       "      <td>2</td>\n",
       "      <td>5</td>\n",
       "      <td>5</td>\n",
       "      <td>Satisfied</td>\n",
       "      <td>65</td>\n",
       "      <td>Adult</td>\n",
       "      <td>Medium-Haul</td>\n",
       "    </tr>\n",
       "    <tr>\n",
       "      <th>2</th>\n",
       "      <td>3</td>\n",
       "      <td>Male</td>\n",
       "      <td>41</td>\n",
       "      <td>Returning</td>\n",
       "      <td>Business</td>\n",
       "      <td>Business</td>\n",
       "      <td>853</td>\n",
       "      <td>0</td>\n",
       "      <td>0</td>\n",
       "      <td>4</td>\n",
       "      <td>...</td>\n",
       "      <td>5</td>\n",
       "      <td>5</td>\n",
       "      <td>3</td>\n",
       "      <td>4</td>\n",
       "      <td>3</td>\n",
       "      <td>3</td>\n",
       "      <td>Satisfied</td>\n",
       "      <td>0</td>\n",
       "      <td>Adult</td>\n",
       "      <td>Medium-Haul</td>\n",
       "    </tr>\n",
       "    <tr>\n",
       "      <th>3</th>\n",
       "      <td>4</td>\n",
       "      <td>Male</td>\n",
       "      <td>50</td>\n",
       "      <td>Returning</td>\n",
       "      <td>Business</td>\n",
       "      <td>Business</td>\n",
       "      <td>1905</td>\n",
       "      <td>0</td>\n",
       "      <td>0</td>\n",
       "      <td>2</td>\n",
       "      <td>...</td>\n",
       "      <td>4</td>\n",
       "      <td>4</td>\n",
       "      <td>5</td>\n",
       "      <td>2</td>\n",
       "      <td>5</td>\n",
       "      <td>5</td>\n",
       "      <td>Satisfied</td>\n",
       "      <td>0</td>\n",
       "      <td>Adult</td>\n",
       "      <td>Medium-Haul</td>\n",
       "    </tr>\n",
       "    <tr>\n",
       "      <th>4</th>\n",
       "      <td>5</td>\n",
       "      <td>Female</td>\n",
       "      <td>49</td>\n",
       "      <td>Returning</td>\n",
       "      <td>Business</td>\n",
       "      <td>Business</td>\n",
       "      <td>3470</td>\n",
       "      <td>0</td>\n",
       "      <td>1</td>\n",
       "      <td>3</td>\n",
       "      <td>...</td>\n",
       "      <td>5</td>\n",
       "      <td>4</td>\n",
       "      <td>3</td>\n",
       "      <td>3</td>\n",
       "      <td>3</td>\n",
       "      <td>3</td>\n",
       "      <td>Satisfied</td>\n",
       "      <td>1</td>\n",
       "      <td>Adult</td>\n",
       "      <td>Long-Haul</td>\n",
       "    </tr>\n",
       "  </tbody>\n",
       "</table>\n",
       "<p>5 rows × 27 columns</p>\n",
       "</div>"
      ],
      "text/plain": [
       "   ID  Gender  Age Customer Type Type of Travel     Class  Flight Distance  \\\n",
       "0   1    Male   48    First-time       Business  Business              821   \n",
       "1   2  Female   35     Returning       Business  Business              821   \n",
       "2   3    Male   41     Returning       Business  Business              853   \n",
       "3   4    Male   50     Returning       Business  Business             1905   \n",
       "4   5  Female   49     Returning       Business  Business             3470   \n",
       "\n",
       "   Departure Delay  Arrival Delay  Departure and Arrival Time Convenience  \\\n",
       "0                2              5                                       3   \n",
       "1               26             39                                       2   \n",
       "2                0              0                                       4   \n",
       "3                0              0                                       2   \n",
       "4                0              1                                       3   \n",
       "\n",
       "   ...  Cleanliness  Food and Drink  In-flight Service  \\\n",
       "0  ...            5               5                  5   \n",
       "1  ...            5               3                  5   \n",
       "2  ...            5               5                  3   \n",
       "3  ...            4               4                  5   \n",
       "4  ...            5               4                  3   \n",
       "\n",
       "   In-flight Wifi Service  In-flight Entertainment  Baggage Handling  \\\n",
       "0                       3                        5                 5   \n",
       "1                       2                        5                 5   \n",
       "2                       4                        3                 3   \n",
       "3                       2                        5                 5   \n",
       "4                       3                        3                 3   \n",
       "\n",
       "              Satisfaction  Total Delay  Age_cat   Flight_cat  \n",
       "0  Neutral or Dissatisfied            7    Adult  Medium-Haul  \n",
       "1                Satisfied           65    Adult  Medium-Haul  \n",
       "2                Satisfied            0    Adult  Medium-Haul  \n",
       "3                Satisfied            0    Adult  Medium-Haul  \n",
       "4                Satisfied            1    Adult    Long-Haul  \n",
       "\n",
       "[5 rows x 27 columns]"
      ]
     },
     "execution_count": 15,
     "metadata": {},
     "output_type": "execute_result"
    }
   ],
   "source": [
    "#check new columns\n",
    "data.head()"
   ]
  },
  {
   "cell_type": "code",
   "execution_count": 16,
   "id": "bc2c1f10",
   "metadata": {},
   "outputs": [],
   "source": [
    "data.to_csv('airline_clean.csv', index=False)"
   ]
  },
  {
   "cell_type": "markdown",
   "id": "5e22f001",
   "metadata": {},
   "source": [
    "# Data Visualizations & Exploratory Data Analysis\n"
   ]
  },
  {
   "cell_type": "code",
   "execution_count": 17,
   "id": "252d80cb",
   "metadata": {},
   "outputs": [
    {
     "data": {
      "image/png": "[encoded data removed]",
      "text/plain": [
       "<Figure size 432x288 with 1 Axes>"
      ]
     },
     "metadata": {
      "needs_background": "light"
     },
     "output_type": "display_data"
    }
   ],
   "source": [
    "sns.countplot(x=\"Satisfaction\", data=data)\n",
    "sns.set(rc = {'figure.figsize':(8,5)})"
   ]
  },
  {
   "cell_type": "code",
   "execution_count": 18,
   "id": "3b456d89",
   "metadata": {},
   "outputs": [
    {
     "data": {
      "image/png": "[encoded data removed]",
      "text/plain": [
       "<Figure size 576x360 with 1 Axes>"
      ]
     },
     "metadata": {},
     "output_type": "display_data"
    }
   ],
   "source": [
    "data_1 = data.Satisfaction.value_counts()\n",
    "labels = [\"Neutral/Dissatidfied\", \"Satisfied\"]\n",
    "plt.pie(data_1, labels=labels,autopct = '%0.0f%%', explode=(0,0.1), shadow=True, startangle=90)\n",
    "sns.set(rc = {'figure.figsize':(8,5)})\n",
    "plt.show()"
   ]
  },
  {
   "cell_type": "code",
   "execution_count": 19,
   "id": "13bd8985",
   "metadata": {},
   "outputs": [
    {
     "data": {
      "image/png": "[encoded data removed]",
      "text/plain": [
       "<Figure size 576x360 with 1 Axes>"
      ]
     },
     "metadata": {},
     "output_type": "display_data"
    }
   ],
   "source": [
    "sns.histplot(data, x=\"Age\",bins=10)\n",
    "sns.set(rc = {'figure.figsize':(8,5)})\n",
    "plt.title(\"Age Distribution of Customers\")\n",
    "plt.show()"
   ]
  },
  {
   "cell_type": "code",
   "execution_count": 39,
   "id": "f322422c",
   "metadata": {},
   "outputs": [
    {
     "data": {
      "image/png": "[encoded data removed]",
      "text/plain": [
       "<Figure size 576x360 with 1 Axes>"
      ]
     },
     "metadata": {},
     "output_type": "display_data"
    }
   ],
   "source": [
    "sns.histplot(data, x=\"Flight Distance\", bins=15)\n",
    "sns.set(rc = {'figure.figsize':(8,5)})\n",
    "plt.title(\"Flight Distance Distribution of Customers\")\n",
    "plt.show()"
   ]
  },
  {
   "cell_type": "code",
   "execution_count": 20,
   "id": "6151aba6",
   "metadata": {},
   "outputs": [
    {
     "data": {
      "text/plain": [
       "Text(0, 0.5, 'Number of Customers')"
      ]
     },
     "execution_count": 20,
     "metadata": {},
     "output_type": "execute_result"
    },
    {
     "data": {
      "image/png": "[encoded data removed]",
      "text/plain": [
       "<Figure size 576x360 with 1 Axes>"
      ]
     },
     "metadata": {},
     "output_type": "display_data"
    }
   ],
   "source": [
    "sns.countplot(x=\"Gender\", data=data)\n",
    "plt.title(\"Gender\")\n",
    "plt.xlabel(\"Gender\")\n",
    "plt.ylabel(\"Number of Customers\");"
   ]
  },
  {
   "cell_type": "code",
   "execution_count": 21,
   "id": "d43d58df",
   "metadata": {},
   "outputs": [
    {
     "data": {
      "image/png": "[encoded data removed]",
      "text/plain": [
       "<Figure size 576x360 with 1 Axes>"
      ]
     },
     "metadata": {},
     "output_type": "display_data"
    }
   ],
   "source": [
    "sns.countplot(x='Customer Type', data=data)\n",
    "plt.title(\"Customer type\")\n",
    "plt.xlabel(\"Customer Type\")\n",
    "plt.ylabel(\"Number of Customers\")\n",
    "plt.show()"
   ]
  },
  {
   "cell_type": "code",
   "execution_count": 22,
   "id": "2f799197",
   "metadata": {},
   "outputs": [
    {
     "data": {
      "image/png": "[encoded data removed]",
      "text/plain": [
       "<Figure size 576x360 with 1 Axes>"
      ]
     },
     "metadata": {},
     "output_type": "display_data"
    }
   ],
   "source": [
    "sns.countplot(x=\"Type of Travel\", data=data)\n",
    "plt.title(\"Type of Travel\")\n",
    "plt.xlabel(\"Travel Type\")\n",
    "plt.ylabel(\"Number of Customers\")\n",
    "plt.show()"
   ]
  },
  {
   "cell_type": "code",
   "execution_count": 23,
   "id": "d9e2646e",
   "metadata": {},
   "outputs": [
    {
     "data": {
      "image/png": "[encoded data removed]",
      "text/plain": [
       "<Figure size 576x360 with 1 Axes>"
      ]
     },
     "metadata": {},
     "output_type": "display_data"
    }
   ],
   "source": [
    "sns.countplot(x=\"Class\", data=data)\n",
    "plt.title(\"Class\")\n",
    "plt.xlabel(\"Class\")\n",
    "plt.ylabel(\"Number of Customers\")\n",
    "plt.show()"
   ]
  },
  {
   "cell_type": "code",
   "execution_count": 24,
   "id": "b3e7f675",
   "metadata": {},
   "outputs": [
    {
     "data": {
      "image/png": "[encoded data removed]",
      "text/plain": [
       "<Figure size 576x360 with 1 Axes>"
      ]
     },
     "metadata": {},
     "output_type": "display_data"
    }
   ],
   "source": [
    "sns.countplot(x=\"Flight_cat\", data=data)\n",
    "plt.title(\"Flight Category\")\n",
    "plt.xlabel(\"Flight Category\")\n",
    "plt.ylabel(\"Number of Customers\")\n",
    "plt.show()"
   ]
  },
  {
   "cell_type": "code",
   "execution_count": 25,
   "id": "35be1833",
   "metadata": {},
   "outputs": [
    {
     "data": {
      "image/png": "[encoded data removed]",
      "text/plain": [
       "<Figure size 576x360 with 1 Axes>"
      ]
     },
     "metadata": {},
     "output_type": "display_data"
    }
   ],
   "source": [
    "sns.countplot(x=\"Age_cat\", data=data)\n",
    "plt.title(\"Age Category\")\n",
    "plt.xlabel(\"Age Category\")\n",
    "plt.ylabel(\"Number of Customers\")\n",
    "plt.show()"
   ]
  },
  {
   "cell_type": "code",
   "execution_count": 31,
   "id": "9358d8a1",
   "metadata": {},
   "outputs": [
    {
     "data": {
      "image/png": "[encoded data removed]",
      "text/plain": [
       "<Figure size 576x360 with 1 Axes>"
      ]
     },
     "metadata": {},
     "output_type": "display_data"
    }
   ],
   "source": [
    "# Visualize how customer type affects satisfaction.\n",
    "data.groupby(\"Customer Type\")[\"Satisfaction\"].value_counts(normalize=True).unstack(1).plot(kind=\"bar\")\n",
    "plt.title(\"Customer Type Satisfaction\");"
   ]
  },
  {
   "cell_type": "markdown",
   "id": "76d50335",
   "metadata": {},
   "source": [
    "> About 75% of first time customers are dissatidfied with their flight and the service provided. About 52% of returning customers are dissatidfied with their flight and the service provided."
   ]
  },
  {
   "cell_type": "code",
   "execution_count": 32,
   "id": "43ec631f",
   "metadata": {},
   "outputs": [
    {
     "data": {
      "image/png": "[encoded data removed]",
      "text/plain": [
       "<Figure size 576x360 with 1 Axes>"
      ]
     },
     "metadata": {},
     "output_type": "display_data"
    }
   ],
   "source": [
    "# Class and satisfaction\n",
    "data.groupby(\"Class\")[\"Satisfaction\"].value_counts(normalize=True).unstack(1).plot(kind=\"bar\")\n",
    "plt.title(\"Class Satisfaction\");"
   ]
  },
  {
   "cell_type": "markdown",
   "id": "5725ca79",
   "metadata": {},
   "source": [
    "> Business has the most satisfied customers with about 70% of passengers satisfactied. \n",
    "<br>Economy class has over 80% of its passengers dissatidfied.\n",
    "<br>Economy Plus has only 24% of its passengers satisfactied."
   ]
  },
  {
   "cell_type": "code",
   "execution_count": 33,
   "id": "707e4e23",
   "metadata": {},
   "outputs": [
    {
     "data": {
      "image/png": "[encoded data removed]",
      "text/plain": [
       "<Figure size 576x360 with 1 Axes>"
      ]
     },
     "metadata": {},
     "output_type": "display_data"
    }
   ],
   "source": [
    "#Travel type satisfaction.\n",
    "data.groupby(\"Type of Travel\")[\"Satisfaction\"].value_counts(normalize=True).unstack(1).plot(kind=\"bar\")\n",
    "plt.title(\"Type of Travel Satisfaction\");"
   ]
  },
  {
   "cell_type": "markdown",
   "id": "a40ee935",
   "metadata": {},
   "source": [
    "> Business travels offer more satisfaction with almost 60% satisfied. <br>\n",
    "Over 80% of passengers who go on personal business are dissatidfied with their flight"
   ]
  },
  {
   "cell_type": "code",
   "execution_count": 34,
   "id": "d79bc542",
   "metadata": {},
   "outputs": [
    {
     "data": {
      "image/png": "[encoded data removed]",
      "text/plain": [
       "<Figure size 576x360 with 1 Axes>"
      ]
     },
     "metadata": {},
     "output_type": "display_data"
    }
   ],
   "source": [
    "#Age category and  satisfaction\n",
    "data.groupby(\"Age_cat\")[\"Satisfaction\"].value_counts(normalize=True).unstack(1).plot(kind=\"bar\")\n",
    "plt.title(\"Age Category Satisfaction\");"
   ]
  },
  {
   "cell_type": "markdown",
   "id": "48e2a6a2",
   "metadata": {},
   "source": [
    "> Adults(20 to 59) are the most satisfied passengers of all age group category. <br>\n",
    "Children(0 to 12) are the most dissatidfied passengers of all age group category. <br>\n",
    "Almost 80% of Teens and Elders are dissatidfied."
   ]
  },
  {
   "cell_type": "code",
   "execution_count": 35,
   "id": "b3c20564",
   "metadata": {},
   "outputs": [
    {
     "data": {
      "image/png": "[encoded data removed]",
      "text/plain": [
       "<Figure size 576x360 with 1 Axes>"
      ]
     },
     "metadata": {},
     "output_type": "display_data"
    }
   ],
   "source": [
    "# flight category and satisfaction.\n",
    "data.groupby(\"Flight_cat\")[\"Satisfaction\"].value_counts(normalize=True).unstack(1).plot(kind=\"bar\")\n",
    "plt.title(\"Flight Category Satisfaction\");"
   ]
  },
  {
   "cell_type": "markdown",
   "id": "78686c33",
   "metadata": {},
   "source": [
    "> Long haul flights(>3000 miles) have the highest satisfaction rate with almost 80% customers satisfied.<br>\n",
    "Short haul flights(<700 miles) have the lowest satisfaction rate(~70% customers dissatidfied)<br>\n",
    "Medium haul flights have an almost 50% satisfaction rate."
   ]
  },
  {
   "cell_type": "code",
   "execution_count": null,
   "id": "43551fd6",
   "metadata": {},
   "outputs": [],
   "source": [
    "# Average rating for all services.\n",
    "\n",
    "services = ['Departure and Arrival Time Convenience', 'Ease of Online Booking',\n",
    "       'Check-in Service', 'Online Boarding', 'Gate Location',\n",
    "       'On-board Service', 'Seat Comfort', 'Leg Room Service', 'Cleanliness',\n",
    "       'Food and Drink', 'In-flight Service', 'In-flight Wifi Service',\n",
    "       'In-flight Entertainment', 'Baggage Handling']\n",
    "\n",
    "for a in services:\n",
    "       "
   ]
  },
  {
   "cell_type": "code",
   "execution_count": 45,
   "id": "ce04b26c",
   "metadata": {},
   "outputs": [
    {
     "data": {
      "text/plain": [
       "Index(['ID', 'Gender', 'Age', 'Customer Type', 'Type of Travel', 'Class',\n",
       "       'Flight Distance', 'Departure Delay', 'Arrival Delay',\n",
       "       'Departure and Arrival Time Convenience', 'Ease of Online Booking',\n",
       "       'Check-in Service', 'Online Boarding', 'Gate Location',\n",
       "       'On-board Service', 'Seat Comfort', 'Leg Room Service', 'Cleanliness',\n",
       "       'Food and Drink', 'In-flight Service', 'In-flight Wifi Service',\n",
       "       'In-flight Entertainment', 'Baggage Handling', 'Satisfaction',\n",
       "       'Total Delay', 'Age_cat', 'Flight_cat'],\n",
       "      dtype='object')"
      ]
     },
     "execution_count": 45,
     "metadata": {},
     "output_type": "execute_result"
    }
   ],
   "source": []
  },
  {
   "cell_type": "code",
   "execution_count": null,
   "id": "2204f651",
   "metadata": {},
   "outputs": [],
   "source": []
  },
  {
   "cell_type": "markdown",
   "id": "d859aa8e",
   "metadata": {},
   "source": [
    "### Question: What is the average total delay for satisfied and dissatidfied customers."
   ]
  },
  {
   "cell_type": "code",
   "execution_count": 40,
   "id": "96087501",
   "metadata": {},
   "outputs": [
    {
     "data": {
      "text/plain": [
       "Satisfaction\n",
       "Neutral or Dissatisfied    33.410118\n",
       "Satisfied                  25.006770\n",
       "Name: Total Delay, dtype: float64"
      ]
     },
     "execution_count": 40,
     "metadata": {},
     "output_type": "execute_result"
    }
   ],
   "source": [
    "data.groupby(\"Satisfaction\")[\"Total Delay\"].mean()"
   ]
  },
  {
   "cell_type": "code",
   "execution_count": 44,
   "id": "d93d7a54",
   "metadata": {},
   "outputs": [
    {
     "data": {
      "image/png": "[encoded data removed]",
      "text/plain": [
       "<Figure size 576x360 with 1 Axes>"
      ]
     },
     "metadata": {},
     "output_type": "display_data"
    }
   ],
   "source": [
    "data.groupby(\"Satisfaction\")[\"Total Delay\"].mean().plot(kind='bar');"
   ]
  },
  {
   "cell_type": "markdown",
   "id": "867d3443",
   "metadata": {},
   "source": [
    "> Longer delay time == Dissatisfied customers."
   ]
  },
  {
   "cell_type": "markdown",
   "id": "ce5849e0",
   "metadata": {},
   "source": [
    "### Question: Does flight distance affect customer preferences?\n"
   ]
  },
  {
   "cell_type": "code",
   "execution_count": 26,
   "id": "459ff957",
   "metadata": {},
   "outputs": [
    {
     "data": {
      "image/png": "[encoded data removed]",
      "text/plain": [
       "<Figure size 1146.65x432 with 2 Axes>"
      ]
     },
     "metadata": {},
     "output_type": "display_data"
    }
   ],
   "source": [
    "sns.catplot(x=\"Flight_cat\", hue=\"Class\",col=\"Type of Travel\", col_wrap=2,\n",
    "                data=data,\n",
    "                kind=\"count\", height=6, aspect=1.2)\n",
    "\n",
    "plt.show()"
   ]
  },
  {
   "cell_type": "markdown",
   "id": "57bfcae6",
   "metadata": {},
   "source": [
    "> When flying for Business purposes passengers irrespective of their flight distance prefer to fly Business class <br>\n",
    "> For personal travels Economy class is most preferred. <br>\n",
    "> Most Business purpose travel cover medium hauls while personal purpose cover shorter distances."
   ]
  },
  {
   "cell_type": "markdown",
   "id": "ff45bed8",
   "metadata": {},
   "source": [
    "### Question:Are repeating airline passengers?"
   ]
  },
  {
   "cell_type": "code",
   "execution_count": 27,
   "id": "415ab752",
   "metadata": {},
   "outputs": [
    {
     "data": {
      "image/png": "[encoded data removed]",
      "text/plain": [
       "<Figure size 1146.65x432 with 2 Axes>"
      ]
     },
     "metadata": {},
     "output_type": "display_data"
    }
   ],
   "source": [
    "sns.catplot(x=\"Satisfaction\", hue=\"Class\",col=\"Customer Type\", col_wrap=2,\n",
    "                data=data,\n",
    "                kind=\"count\", height=6, aspect=1.2)\n",
    "\n",
    "plt.show()"
   ]
  },
  {
   "cell_type": "code",
   "execution_count": null,
   "id": "4cc5055a",
   "metadata": {},
   "outputs": [],
   "source": []
  }
 ],
 "metadata": {
  "kernelspec": {
   "display_name": "Python 3.9.12 ('base')",
   "language": "python",
   "name": "python3"
  },
  "language_info": {
   "codemirror_mode": {
    "name": "ipython",
    "version": 3
   },
   "file_extension": ".py",
   "mimetype": "text/x-python",
   "name": "python",
   "nbconvert_exporter": "python",
   "pygments_lexer": "ipython3",
   "version": "3.9.12"
  },
  "vscode": {
   "interpreter": {
    "hash": "085e252e8eacd9eba7d41a3e5a03115f1c4cd82e6520e14d11e622873a1c979d"
   }
  }
 },
 "nbformat": 4,
 "nbformat_minor": 5
}
